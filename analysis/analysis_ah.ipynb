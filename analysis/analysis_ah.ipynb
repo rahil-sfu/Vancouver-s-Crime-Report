{
 "cells": [
  {
   "cell_type": "code",
   "execution_count": 73,
   "id": "b94e38d3",
   "metadata": {},
   "outputs": [],
   "source": [
    "import pandas as pd\n",
    "import numpy as np\n",
    "\n",
    "import matplotlib.pyplot as plt\n",
    "\n",
    "import zipfile\n",
    "import os\n",
    "\n",
    "from sklearn.neighbors import KernelDensity"
   ]
  },
  {
   "cell_type": "markdown",
   "id": "7fbed6e2",
   "metadata": {},
   "source": [
    "# Loading Data"
   ]
  },
  {
   "cell_type": "code",
   "execution_count": 96,
   "id": "8f83aa0e",
   "metadata": {},
   "outputs": [],
   "source": [
    "#Read in data without extraction\n",
    "zf = zipfile.ZipFile(\"../data/crimedata_csv_AllNeighbourhoods_AllYears.zip\") #https://stackoverflow.com/questions/26942476/reading-csv-zipped-files-in-python\n",
    "df = pd.read_csv(zf.open(\"crimedata_csv_AllNeighbourhoods_AllYears.csv\"))"
   ]
  },
  {
   "cell_type": "markdown",
   "id": "60f72658",
   "metadata": {},
   "source": [
    "# Exploratory Analysis"
   ]
  },
  {
   "cell_type": "code",
   "execution_count": 97,
   "id": "48595243",
   "metadata": {},
   "outputs": [
    {
     "data": {
      "text/html": [
       "<div>\n",
       "<style scoped>\n",
       "    .dataframe tbody tr th:only-of-type {\n",
       "        vertical-align: middle;\n",
       "    }\n",
       "\n",
       "    .dataframe tbody tr th {\n",
       "        vertical-align: top;\n",
       "    }\n",
       "\n",
       "    .dataframe thead th {\n",
       "        text-align: right;\n",
       "    }\n",
       "</style>\n",
       "<table border=\"1\" class=\"dataframe\">\n",
       "  <thead>\n",
       "    <tr style=\"text-align: right;\">\n",
       "      <th></th>\n",
       "      <th>TYPE</th>\n",
       "      <th>YEAR</th>\n",
       "      <th>MONTH</th>\n",
       "      <th>DAY</th>\n",
       "      <th>HOUR</th>\n",
       "      <th>MINUTE</th>\n",
       "      <th>HUNDRED_BLOCK</th>\n",
       "      <th>NEIGHBOURHOOD</th>\n",
       "      <th>X</th>\n",
       "      <th>Y</th>\n",
       "    </tr>\n",
       "  </thead>\n",
       "  <tbody>\n",
       "    <tr>\n",
       "      <th>0</th>\n",
       "      <td>Break and Enter Commercial</td>\n",
       "      <td>2012</td>\n",
       "      <td>12</td>\n",
       "      <td>14</td>\n",
       "      <td>8</td>\n",
       "      <td>52</td>\n",
       "      <td>NaN</td>\n",
       "      <td>Oakridge</td>\n",
       "      <td>491285.0000</td>\n",
       "      <td>5.453433e+06</td>\n",
       "    </tr>\n",
       "    <tr>\n",
       "      <th>1</th>\n",
       "      <td>Break and Enter Commercial</td>\n",
       "      <td>2019</td>\n",
       "      <td>3</td>\n",
       "      <td>7</td>\n",
       "      <td>2</td>\n",
       "      <td>6</td>\n",
       "      <td>10XX SITKA SQ</td>\n",
       "      <td>Fairview</td>\n",
       "      <td>490612.9648</td>\n",
       "      <td>5.457110e+06</td>\n",
       "    </tr>\n",
       "    <tr>\n",
       "      <th>2</th>\n",
       "      <td>Break and Enter Commercial</td>\n",
       "      <td>2019</td>\n",
       "      <td>8</td>\n",
       "      <td>27</td>\n",
       "      <td>4</td>\n",
       "      <td>12</td>\n",
       "      <td>10XX ALBERNI ST</td>\n",
       "      <td>West End</td>\n",
       "      <td>491007.7798</td>\n",
       "      <td>5.459174e+06</td>\n",
       "    </tr>\n",
       "    <tr>\n",
       "      <th>3</th>\n",
       "      <td>Break and Enter Commercial</td>\n",
       "      <td>2021</td>\n",
       "      <td>4</td>\n",
       "      <td>26</td>\n",
       "      <td>4</td>\n",
       "      <td>44</td>\n",
       "      <td>10XX ALBERNI ST</td>\n",
       "      <td>West End</td>\n",
       "      <td>491007.7798</td>\n",
       "      <td>5.459174e+06</td>\n",
       "    </tr>\n",
       "    <tr>\n",
       "      <th>4</th>\n",
       "      <td>Break and Enter Commercial</td>\n",
       "      <td>2014</td>\n",
       "      <td>8</td>\n",
       "      <td>8</td>\n",
       "      <td>5</td>\n",
       "      <td>13</td>\n",
       "      <td>10XX ALBERNI ST</td>\n",
       "      <td>West End</td>\n",
       "      <td>491015.9434</td>\n",
       "      <td>5.459166e+06</td>\n",
       "    </tr>\n",
       "  </tbody>\n",
       "</table>\n",
       "</div>"
      ],
      "text/plain": [
       "                         TYPE  YEAR  MONTH  DAY  HOUR  MINUTE  \\\n",
       "0  Break and Enter Commercial  2012     12   14     8      52   \n",
       "1  Break and Enter Commercial  2019      3    7     2       6   \n",
       "2  Break and Enter Commercial  2019      8   27     4      12   \n",
       "3  Break and Enter Commercial  2021      4   26     4      44   \n",
       "4  Break and Enter Commercial  2014      8    8     5      13   \n",
       "\n",
       "     HUNDRED_BLOCK NEIGHBOURHOOD            X             Y  \n",
       "0              NaN      Oakridge  491285.0000  5.453433e+06  \n",
       "1    10XX SITKA SQ      Fairview  490612.9648  5.457110e+06  \n",
       "2  10XX ALBERNI ST      West End  491007.7798  5.459174e+06  \n",
       "3  10XX ALBERNI ST      West End  491007.7798  5.459174e+06  \n",
       "4  10XX ALBERNI ST      West End  491015.9434  5.459166e+06  "
      ]
     },
     "execution_count": 97,
     "metadata": {},
     "output_type": "execute_result"
    }
   ],
   "source": [
    "df.head(5)"
   ]
  },
  {
   "cell_type": "markdown",
   "id": "bd195f13",
   "metadata": {},
   "source": [
    "The dataset includes the type of crime and several other variables such as timestamps, hundred block, neighbourhood, and location coordinates (lat, lon). The PDF file indicates the coordinates include offsets for privacy reasons.\n",
    "\n",
    "Column X is latitude and Column Y is longitude."
   ]
  },
  {
   "cell_type": "code",
   "execution_count": 98,
   "id": "7e15a31c",
   "metadata": {},
   "outputs": [
    {
     "data": {
      "text/plain": [
       "array(['Break and Enter Commercial', 'Break and Enter Residential/Other',\n",
       "       'Homicide', 'Mischief', 'Offence Against a Person', 'Other Theft',\n",
       "       'Theft from Vehicle', 'Theft of Bicycle', 'Theft of Vehicle',\n",
       "       'Vehicle Collision or Pedestrian Struck (with Fatality)',\n",
       "       'Vehicle Collision or Pedestrian Struck (with Injury)'],\n",
       "      dtype=object)"
      ]
     },
     "execution_count": 98,
     "metadata": {},
     "output_type": "execute_result"
    }
   ],
   "source": [
    "pd.unique(df['TYPE'])"
   ]
  },
  {
   "cell_type": "markdown",
   "id": "9914ed67",
   "metadata": {},
   "source": [
    "The general crime categories are breaking and entering, homicide, mischief, offence, theft, and vehicular collisions.\n",
    "\n",
    "Let's take a look at the distribution of coordinates to look for their geometric centers."
   ]
  },
  {
   "cell_type": "code",
   "execution_count": 99,
   "id": "a1ed5402",
   "metadata": {},
   "outputs": [
    {
     "data": {
      "image/png": "[encoded data removed]",
      "text/plain": [
       "<Figure size 1080x360 with 2 Axes>"
      ]
     },
     "metadata": {
      "needs_background": "light"
     },
     "output_type": "display_data"
    }
   ],
   "source": [
    "plt.figure(figsize=(15,5))\n",
    "\n",
    "plt.subplot(1,2,1)\n",
    "\n",
    "plt.hist(df['X'])\n",
    "\n",
    "plt.xlabel(\"Latitude\", size='x-large')\n",
    "plt.ylabel(\"Counts\", size='x-large')\n",
    "plt.xticks(size=\"x-large\")\n",
    "plt.yticks(size=\"x-large\")\n",
    "\n",
    "plt.subplot(1,2,2)\n",
    "\n",
    "plt.hist(df['Y'])\n",
    "\n",
    "plt.xlabel(\"Longitude\", size='x-large')\n",
    "plt.ylabel(\"Counts\", size='x-large')\n",
    "plt.xticks(size=\"x-large\")\n",
    "plt.yticks(size=\"x-large\")\n",
    "\n",
    "plt.tight_layout()\n",
    "plt.show()"
   ]
  },
  {
   "cell_type": "markdown",
   "id": "e4ee5cbb",
   "metadata": {},
   "source": [
    "We can immediately see the outliers."
   ]
  },
  {
   "cell_type": "code",
   "execution_count": 100,
   "id": "a060166b",
   "metadata": {},
   "outputs": [
    {
     "name": "stdout",
     "output_type": "stream",
     "text": [
      "Outlier count: 73447\n",
      "Crime types in the outlier set: \n",
      "Homicide\n",
      "Offence Against a Person\n",
      "Vehicle Collision or Pedestrian Struck (with Injury)\n"
     ]
    }
   ],
   "source": [
    "outliers = df[(df['X']<30000) & (df['Y']<30000)]\n",
    "print(\"Outlier count: \" +  str(len(outliers)))\n",
    "print(\"Crime types in the outlier set: \")\n",
    "for crime in pd.unique(outliers['TYPE']):\n",
    "    print(crime)"
   ]
  },
  {
   "cell_type": "markdown",
   "id": "fe61e01e",
   "metadata": {},
   "source": [
    "More serious crimes against person(s) are anonymized."
   ]
  },
  {
   "cell_type": "code",
   "execution_count": 101,
   "id": "383ea615",
   "metadata": {},
   "outputs": [
    {
     "data": {
      "text/plain": [
       "30254"
      ]
     },
     "execution_count": 101,
     "metadata": {},
     "output_type": "execute_result"
    }
   ],
   "source": [
    "df.duplicated().sum()"
   ]
  },
  {
   "cell_type": "markdown",
   "id": "504c763c",
   "metadata": {},
   "source": [
    "There are also 30254 duplicated rows which need be removed before further analysis."
   ]
  },
  {
   "cell_type": "code",
   "execution_count": 132,
   "id": "6041cd4b",
   "metadata": {},
   "outputs": [
    {
     "data": {
      "image/png": "[encoded data removed]",
      "text/plain": [
       "<Figure size 1080x360 with 2 Axes>"
      ]
     },
     "metadata": {
      "needs_background": "light"
     },
     "output_type": "display_data"
    }
   ],
   "source": [
    "plt.figure(figsize=(15,5))\n",
    "\n",
    "plt.subplot(1,2,1)\n",
    "\n",
    "plt.hist(df[(df['X'] > 480000) & (df['X'] < 500000)]['X'], bins=50, edgecolor='black')\n",
    "\n",
    "plt.xlabel(\"Latitude\", size='x-large')\n",
    "plt.ylabel(\"Counts\", size='x-large')\n",
    "plt.xticks(size=\"x-large\")\n",
    "plt.yticks(size=\"x-large\")\n",
    "\n",
    "plt.subplot(1,2,2)\n",
    "\n",
    "plt.hist(df[(df['Y'] > 5450000) & (df['Y'] < 5500000)]['Y'], bins=50, edgecolor='black')\n",
    "\n",
    "plt.xlabel(\"Longitude\", size='x-large')\n",
    "plt.ylabel(\"Counts\", size='x-large')\n",
    "plt.xticks(size=\"x-large\")\n",
    "plt.yticks(size=\"x-large\")\n",
    "\n",
    "\n",
    "\n",
    "plt.tight_layout()\n",
    "plt.show()"
   ]
  },
  {
   "cell_type": "code",
   "execution_count": 136,
   "id": "e07190fc",
   "metadata": {},
   "outputs": [],
   "source": [
    "lat = df[(df['X'] > 480000) & (df['X'] < 500000)]['X']\n",
    "long = df[(df['Y'] > 5450000) & (df['Y'] < 5500000)]['Y']"
   ]
  },
  {
   "cell_type": "markdown",
   "id": "03971602",
   "metadata": {},
   "source": [
    "# Cleaning data"
   ]
  },
  {
   "cell_type": "code",
   "execution_count": 58,
   "id": "3d3a1c5d",
   "metadata": {},
   "outputs": [],
   "source": [
    "def clean_data(data):\n",
    "    \n",
    "    #Drop duplicates\n",
    "    data = data.drop_duplicates()\n",
    "    \n",
    "    #Calculate the mean of lat. and long.\n",
    "    meanX = data[data[\"X\"]>100000].dropna(subset=\"X\")['X'].mean()\n",
    "    meanY = data[data[\"Y\"]>100000].dropna(subset=\"Y\")['Y'].mean()\n",
    "    \n",
    "    #Set outliers to mean value\n",
    "    data.loc[data['X'] < 100000, \"X\"] = meanX\n",
    "    data.loc[data['Y'] < 100000, \"Y\"] = meanY\n",
    "    \n",
    "    return data"
   ]
  },
  {
   "cell_type": "code",
   "execution_count": 59,
   "id": "dc97c774",
   "metadata": {},
   "outputs": [],
   "source": [
    "data = clean_data(df)"
   ]
  },
  {
   "cell_type": "markdown",
   "id": "d20d6eb1",
   "metadata": {},
   "source": [
    "# Further analysis\n",
    "\n",
    "Below is a distribution of daily crime occurences. We can observe two outliers; one at bin 0-10, another at bin 780-790."
   ]
  },
  {
   "cell_type": "code",
   "execution_count": 280,
   "id": "a017a4af",
   "metadata": {},
   "outputs": [
    {
     "name": "stdout",
     "output_type": "stream",
     "text": [
      "MSE score: 1.1849414375494437e-06\n",
      "Distribution median: 109\n",
      "Distribution mean: 112.2197105444521\n",
      "Distribution stdev: 28.881525102845938\n"
     ]
    },
    {
     "data": {
      "image/png": "[encoded data removed]",
      "text/plain": [
       "<Figure size 1080x504 with 2 Axes>"
      ]
     },
     "metadata": {
      "needs_background": "light"
     },
     "output_type": "display_data"
    }
   ],
   "source": [
    "#https://jakevdp.github.io/PythonDataScienceHandbook/05.13-kernel-density-estimation.html\n",
    "daily_frequency = data.groupby(['YEAR','MONTH','DAY']).count()['TYPE']\n",
    "median = int(np.median(daily_frequency))\n",
    "mean = np.mean(daily_frequency)\n",
    "stdev = np.std(daily_frequency)\n",
    "\n",
    "plt.figure(figsize=(15,7))\n",
    "plt.subplot(1,2,1)\n",
    "\n",
    "\n",
    "n,b,c = plt.hist(daily_frequency, bins=np.arange(0,700,10), edgecolor='black',density=True);\n",
    "\n",
    "midpoints = ((b[:-1] + b[1:]) / 2)\n",
    "\n",
    "# instantiate and fit the KDE model\n",
    "kde = KernelDensity(bandwidth=1.4, kernel='gaussian')\n",
    "kde.fit(np.array(daily_frequency).reshape(-1,1))\n",
    "\n",
    "# score_samples returns the log of the probability density\n",
    "prob = np.exp(kde.score_samples(np.array(midpoints).reshape(-1,1)))\n",
    "\n",
    "\n",
    "#plt.fill_between(midpoints, np.exp(logprob), alpha=0.5, color='green', edgecolor='black')\n",
    "#plt.plot(midpoints, np.full_like(midpoints, -0.01), '|k', markeredgewidth=1)\n",
    "#plt.ylim(0, 0.016)\n",
    "\n",
    "plt.title(\"Daily Incident Rate Distribution\", size='x-large')\n",
    "plt.xlabel(\"# of Incidents\", size='x-large')\n",
    "plt.ylabel(\"Density\", size='x-large')\n",
    "\n",
    "plt.xticks(size='x-large')\n",
    "plt.yticks(size='x-large');\n",
    "\n",
    "plt.axvline(x=median, color='red', linestyle=\"--\", label=\"Median\")\n",
    "\n",
    "plt.legend()\n",
    "\n",
    "plt.subplot(1,2,2)\n",
    "\n",
    "plt.scatter(midpoints,n - prob, edgecolors='black', label='Residual')\n",
    "plt.axhline(y=0, color='red', linestyle=\"--\", label='Fit Line')\n",
    "plt.xlabel(\"# of Incidents\", size='x-large')\n",
    "plt.ylabel(\"Residual\", size='x-large')\n",
    "plt.title(\"KDE Fit Residuals\", size='x-large')\n",
    "plt.xticks(size='x-large')\n",
    "plt.yticks(size='x-large')\n",
    "\n",
    "mse = np.sum((n - prob)**2)\n",
    "\n",
    "plt.xlim(0,300)\n",
    "\n",
    "plt.legend()\n",
    "\n",
    "plt.tight_layout()\n",
    "\n",
    "print(\"MSE score: \" + str(mse))\n",
    "print(\"Distribution median: \" + str(median))\n",
    "print(\"Distribution mean: \" + str(mean))\n",
    "print(\"Distribution stdev: \" + str(stdev))"
   ]
  },
  {
   "cell_type": "code",
   "execution_count": null,
   "id": "8243b036",
   "metadata": {},
   "outputs": [],
   "source": []
  }
 ],
 "metadata": {
  "kernelspec": {
   "display_name": "Python 3",
   "language": "python",
   "name": "python3"
  },
  "language_info": {
   "codemirror_mode": {
    "name": "ipython",
    "version": 3
   },
   "file_extension": ".py",
   "mimetype": "text/x-python",
   "name": "python",
   "nbconvert_exporter": "python",
   "pygments_lexer": "ipython3",
   "version": "3.9.12"
  },
  "toc": {
   "base_numbering": 1,
   "nav_menu": {},
   "number_sections": true,
   "sideBar": true,
   "skip_h1_title": false,
   "title_cell": "Table of Contents",
   "title_sidebar": "Contents",
   "toc_cell": false,
   "toc_position": {},
   "toc_section_display": true,
   "toc_window_display": false
  },
  "varInspector": {
   "cols": {
    "lenName": 16,
    "lenType": 16,
    "lenVar": 40
   },
   "kernels_config": {
    "python": {
     "delete_cmd_postfix": "",
     "delete_cmd_prefix": "del ",
     "library": "var_list.py",
     "varRefreshCmd": "print(var_dic_list())"
    },
    "r": {
     "delete_cmd_postfix": ") ",
     "delete_cmd_prefix": "rm(",
     "library": "var_list.r",
     "varRefreshCmd": "cat(var_dic_list()) "
    }
   },
   "types_to_exclude": [
    "module",
    "function",
    "builtin_function_or_method",
    "instance",
    "_Feature"
   ],
   "window_display": false
  }
 },
 "nbformat": 4,
 "nbformat_minor": 5
}
